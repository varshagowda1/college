{
  "nbformat": 4,
  "nbformat_minor": 0,
  "metadata": {
    "colab": {
      "provenance": [],
      "authorship_tag": "ABX9TyOOgZNO5OTi3QhXQucuCF8i",
      "include_colab_link": true
    },
    "kernelspec": {
      "name": "python3",
      "display_name": "Python 3"
    },
    "language_info": {
      "name": "python"
    }
  },
  "cells": [
    {
      "cell_type": "markdown",
      "metadata": {
        "id": "view-in-github",
        "colab_type": "text"
      },
      "source": [
        "<a href=\"https://colab.research.google.com/github/varshagowda1/college/blob/main/NLP_lemmitization_stemming.ipynb\" target=\"_parent\"><img src=\"https://colab.research.google.com/assets/colab-badge.svg\" alt=\"Open In Colab\"/></a>"
      ]
    },
    {
      "cell_type": "markdown",
      "source": [
        "IMPORTING LIBARAIRS\n",
        "\n"
      ],
      "metadata": {
        "id": "mGLo9_myOiAl"
      }
    },
    {
      "cell_type": "code",
      "source": [
        "from nltk.corpus.reader.tagged import sent_tokenize\n",
        "import nltk\n",
        "nltk.download('punkt')\n",
        "paragraph = ('ai')\n"
      ],
      "metadata": {
        "colab": {
          "base_uri": "https://localhost:8080/"
        },
        "id": "bhqvHC5QJiM1",
        "outputId": "f262a37c-0dd0-426c-ec4c-72ab49ff0ff2"
      },
      "execution_count": 22,
      "outputs": [
        {
          "output_type": "stream",
          "name": "stderr",
          "text": [
            "[nltk_data] Downloading package punkt to /root/nltk_data...\n",
            "[nltk_data]   Package punkt is already up-to-date!\n"
          ]
        }
      ]
    },
    {
      "cell_type": "markdown",
      "source": [
        "COVERTING THE PARAGRAPH INTO SENTENCES"
      ],
      "metadata": {
        "id": "ob5HWhi6PJ1j"
      }
    },
    {
      "cell_type": "code",
      "source": [
        "Sentences = nltk.sent_tokenize(paragraph)"
      ],
      "metadata": {
        "id": "qXoZ1ajSO6Hj"
      },
      "execution_count": 21,
      "outputs": []
    },
    {
      "cell_type": "markdown",
      "source": [
        "CONVERTING THE SENTENCES INTO WORDS"
      ],
      "metadata": {
        "id": "mo0yYb8BPXET"
      }
    },
    {
      "cell_type": "code",
      "source": [
        "Word = nltk.word_tokenize(paragraph)\n",
        "print(Sentences)\n",
        "print(Word)"
      ],
      "metadata": {
        "colab": {
          "base_uri": "https://localhost:8080/"
        },
        "id": "v4-to3mxO9Na",
        "outputId": "a2d6c5e5-f2de-4d19-92a1-a39ac7c22837"
      },
      "execution_count": 23,
      "outputs": [
        {
          "output_type": "stream",
          "name": "stdout",
          "text": [
            "['Topic sentences are similar to mini thesis statements.', 'Like a thesis statement, a topic sentence has a specific main point.', 'Whereas the thesis is the main point of the essay, the topic sentence is the main point of the paragraph.', 'Like the thesis statement, a topic sentence has a unifying function.', 'But a thesis statement or topic sentence alone doesn’t guarantee unity.', 'An essay is unified if all the paragraphs relate to the thesis, whereas a paragraph is unified if all the sentences relate to the topic sentence.', 'Not all paragraphs need topic sentences']\n",
            "['ai']\n"
          ]
        }
      ]
    },
    {
      "cell_type": "markdown",
      "source": [
        " lemmitization\n",
        "\n",
        "\n"
      ],
      "metadata": {
        "id": "stP37FqtOpMM"
      }
    },
    {
      "cell_type": "code",
      "source": [
        "import nltk\n",
        "nltk.download('punkt')\n",
        "nltk.download('wordnet')\n",
        "nltk.download('omw-1.4')\n",
        "from nltk.stem import WordNetLemmatizer\n",
        "from nltk.corpus import stopwords\n",
        "nltk.download('stopwords')\n",
        "paragraph = \"Topic sentences are similar to mini thesis statements. Like a thesis statement, a topic sentence has a specific main point. Whereas the thesis is the main point of the essay, the topic sentence is the main point of the paragraph. Like the thesis statement, a topic sentence has a unifying function. But a thesis statement or topic sentence alone doesn’t guarantee unity. An essay is unified if all the paragraphs relate to the thesis, whereas a paragraph is unified if all the sentences relate to the topic sentence. Not all paragraphs need topic sentences\"\n",
        "\n",
        "     "
      ],
      "metadata": {
        "colab": {
          "base_uri": "https://localhost:8080/"
        },
        "id": "7iWJMH9uNrG6",
        "outputId": "05e6e23d-5c0f-4cc7-d0fc-2cb8ec108938"
      },
      "execution_count": 18,
      "outputs": [
        {
          "output_type": "stream",
          "name": "stderr",
          "text": [
            "[nltk_data] Downloading package punkt to /root/nltk_data...\n",
            "[nltk_data]   Package punkt is already up-to-date!\n",
            "[nltk_data] Downloading package wordnet to /root/nltk_data...\n",
            "[nltk_data] Downloading package omw-1.4 to /root/nltk_data...\n",
            "[nltk_data] Downloading package stopwords to /root/nltk_data...\n",
            "[nltk_data]   Unzipping corpora/stopwords.zip.\n"
          ]
        }
      ]
    },
    {
      "cell_type": "code",
      "source": [
        "sentences = nltk.sent_tokenize(paragraph)\n",
        "lemmatizer = WordNetLemmatizer()\n",
        "     \n"
      ],
      "metadata": {
        "id": "dOta-N_qNvjC"
      },
      "execution_count": 19,
      "outputs": []
    },
    {
      "cell_type": "code",
      "source": [
        "for i in range (len(sentences)):\n",
        "  words = nltk.word_tokenize(sentences [i])\n",
        "  words = [lemmatizer.lemmatize(words) for words in words if words not in set(stopwords.words('english'))]\n",
        "  sentences [i] = ' '.join(words)\n",
        "print(sentences)\n",
        "     "
      ],
      "metadata": {
        "colab": {
          "base_uri": "https://localhost:8080/"
        },
        "id": "u3AtjmRXN0Cp",
        "outputId": "2d4c5bb4-432f-4aef-f947-c2c012ade0a1"
      },
      "execution_count": 20,
      "outputs": [
        {
          "output_type": "stream",
          "name": "stdout",
          "text": [
            "['Topic sentence similar mini thesis statement .', 'Like thesis statement , topic sentence specific main point .', 'Whereas thesis main point essay , topic sentence main point paragraph .', 'Like thesis statement , topic sentence unifying function .', 'But thesis statement topic sentence alone ’ guarantee unity .', 'An essay unified paragraph relate thesis , whereas paragraph unified sentence relate topic sentence .', 'Not paragraph need topic sentence']\n"
          ]
        }
      ]
    },
    {
      "cell_type": "markdown",
      "source": [
        "stemming"
      ],
      "metadata": {
        "id": "NrNLL2JoPg4H"
      }
    },
    {
      "cell_type": "code",
      "source": [
        "import nltk\n",
        "nltk.download('punkt')\n",
        "from nltk.stem import PorterStemmer\n",
        "from nltk.corpus import stopwords\n",
        "nltk.download('stopwords')\n",
        "paragraph = \"Topic sentences are similar to mini thesis statements. Like a thesis statement, a topic sentence has a specific main point. Whereas the thesis is the main point of the essay, the topic sentence is the main point of the paragraph. Like the thesis statement, a topic sentence has a unifying function. But a thesis statement or topic sentence alone doesn’t guarantee unity. An essay is unified if all the paragraphs relate to the thesis, whereas a paragraph is unified if all the sentences relate to the topic sentence. Not all paragraphs need topic sentences\"\n"
      ],
      "metadata": {
        "colab": {
          "base_uri": "https://localhost:8080/"
        },
        "id": "DxHpb2ZBPfHF",
        "outputId": "52afc4e8-2704-40b5-ab33-916e22cc9bda"
      },
      "execution_count": 24,
      "outputs": [
        {
          "output_type": "stream",
          "name": "stderr",
          "text": [
            "[nltk_data] Downloading package punkt to /root/nltk_data...\n",
            "[nltk_data]   Package punkt is already up-to-date!\n",
            "[nltk_data] Downloading package stopwords to /root/nltk_data...\n",
            "[nltk_data]   Package stopwords is already up-to-date!\n"
          ]
        }
      ]
    },
    {
      "cell_type": "code",
      "source": [
        "sentences = nltk.sent_tokenize(paragraph)\n",
        "Stemmer = PorterStemmer()"
      ],
      "metadata": {
        "id": "lGBwHxZaPsid"
      },
      "execution_count": 25,
      "outputs": []
    },
    {
      "cell_type": "code",
      "source": [
        "for i in range (len(sentences)):\n",
        "  words = nltk.word_tokenize(sentences [i])\n",
        "  words = [Stemmer.stem(word) for word in words if word not in set(stopwords.words('english'))]\n",
        "  sentences [i] = ' '.join(words)\n",
        "print(sentences)\n",
        "     "
      ],
      "metadata": {
        "colab": {
          "base_uri": "https://localhost:8080/"
        },
        "id": "BHD7ghLJPvhj",
        "outputId": "95a4453f-9c3e-4c24-a1b9-0728b3523b57"
      },
      "execution_count": 26,
      "outputs": [
        {
          "output_type": "stream",
          "name": "stdout",
          "text": [
            "['topic sentenc similar mini thesi statement .', 'like thesi statement , topic sentenc specif main point .', 'wherea thesi main point essay , topic sentenc main point paragraph .', 'like thesi statement , topic sentenc unifi function .', 'but thesi statement topic sentenc alon ’ guarante uniti .', 'an essay unifi paragraph relat thesi , wherea paragraph unifi sentenc relat topic sentenc .', 'not paragraph need topic sentenc']\n"
          ]
        }
      ]
    }
  ]
}