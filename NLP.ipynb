{
  "nbformat": 4,
  "nbformat_minor": 0,
  "metadata": {
    "colab": {
      "provenance": [],
      "authorship_tag": "ABX9TyP4Aq2IVqyiW2AJ/YgOlfN6",
      "include_colab_link": true
    },
    "kernelspec": {
      "name": "python3",
      "display_name": "Python 3"
    },
    "language_info": {
      "name": "python"
    }
  },
  "cells": [
    {
      "cell_type": "markdown",
      "metadata": {
        "id": "view-in-github",
        "colab_type": "text"
      },
      "source": [
        "<a href=\"https://colab.research.google.com/github/varshagowda1/college/blob/main/NLP.ipynb\" target=\"_parent\"><img src=\"https://colab.research.google.com/assets/colab-badge.svg\" alt=\"Open In Colab\"/></a>"
      ]
    },
    {
      "cell_type": "code",
      "execution_count": 1,
      "metadata": {
        "colab": {
          "base_uri": "https://localhost:8080/"
        },
        "id": "FBY6KfV7LSYM",
        "outputId": "e33ebf2a-57a7-450b-8944-332f92fd7206"
      },
      "outputs": [
        {
          "output_type": "stream",
          "name": "stderr",
          "text": [
            "[nltk_data] Downloading package punkt to /root/nltk_data...\n",
            "[nltk_data]   Unzipping tokenizers/punkt.zip.\n"
          ]
        }
      ],
      "source": [
        "import nltk\n",
        "nltk.download('punkt')\n",
        "paragraph = \"Machine Learning is a branch of the broader field of artificial intelligence that makes use of statistical models to develop predictions. It is often described as a form of predictive modelling or predictive analytics and traditionally, has been defined as the ability of a computer to learn without explicitly being programmed to do so.\"\n",
        "\n",
        "     "
      ]
    },
    {
      "cell_type": "markdown",
      "source": [
        "Converting paragraph into Sentences"
      ],
      "metadata": {
        "id": "OJwCBj8hLiDu"
      }
    },
    {
      "cell_type": "code",
      "source": [
        "sentences=nltk.sent_tokenize(paragraph)"
      ],
      "metadata": {
        "id": "iVqoEphpLZQK"
      },
      "execution_count": 2,
      "outputs": []
    },
    {
      "cell_type": "markdown",
      "source": [
        "Converting sentences to works"
      ],
      "metadata": {
        "id": "V5T5u_tULjfJ"
      }
    },
    {
      "cell_type": "code",
      "source": [
        "\n",
        "Word=nltk.word_tokenize(paragraph)\n",
        "print(sentences)\n",
        "print(Word)"
      ],
      "metadata": {
        "colab": {
          "base_uri": "https://localhost:8080/"
        },
        "id": "FZycTZXoLnns",
        "outputId": "be61b02d-9d0e-4e4b-b828-0a1ce8621311"
      },
      "execution_count": 3,
      "outputs": [
        {
          "output_type": "stream",
          "name": "stdout",
          "text": [
            "['Machine Learning is a branch of the broader field of artificial intelligence that makes use of statistical models to develop predictions.', 'It is often described as a form of predictive modelling or predictive analytics and traditionally, has been defined as the ability of a computer to learn without explicitly being programmed to do so.']\n",
            "['Machine', 'Learning', 'is', 'a', 'branch', 'of', 'the', 'broader', 'field', 'of', 'artificial', 'intelligence', 'that', 'makes', 'use', 'of', 'statistical', 'models', 'to', 'develop', 'predictions', '.', 'It', 'is', 'often', 'described', 'as', 'a', 'form', 'of', 'predictive', 'modelling', 'or', 'predictive', 'analytics', 'and', 'traditionally', ',', 'has', 'been', 'defined', 'as', 'the', 'ability', 'of', 'a', 'computer', 'to', 'learn', 'without', 'explicitly', 'being', 'programmed', 'to', 'do', 'so', '.']\n"
          ]
        }
      ]
    }
  ]
}