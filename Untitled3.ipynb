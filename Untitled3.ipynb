{
  "nbformat": 4,
  "nbformat_minor": 0,
  "metadata": {
    "colab": {
      "provenance": [],
      "authorship_tag": "ABX9TyN7U2pRJvneURKwXmW9jZ/6",
      "include_colab_link": true
    },
    "kernelspec": {
      "name": "python3",
      "display_name": "Python 3"
    },
    "language_info": {
      "name": "python"
    }
  },
  "cells": [
    {
      "cell_type": "markdown",
      "metadata": {
        "id": "view-in-github",
        "colab_type": "text"
      },
      "source": [
        "<a href=\"https://colab.research.google.com/github/varshagowda1/college/blob/main/Untitled3.ipynb\" target=\"_parent\"><img src=\"https://colab.research.google.com/assets/colab-badge.svg\" alt=\"Open In Colab\"/></a>"
      ]
    },
    {
      "cell_type": "markdown",
      "source": [
        "importing the libraries"
      ],
      "metadata": {
        "id": "jPHLw2_8yUkf"
      }
    },
    {
      "cell_type": "code",
      "execution_count": null,
      "metadata": {
        "id": "jKa2Mk0Jx_yl"
      },
      "outputs": [],
      "source": [
        "import numpy as np \n",
        "import matplotlib as plt\n",
        "import pandas as pd\n"
      ]
    },
    {
      "cell_type": "markdown",
      "source": [
        "importing the dataset"
      ],
      "metadata": {
        "id": "L-YnuftYyX_c"
      }
    },
    {
      "cell_type": "code",
      "source": [
        "dataset = pd.read_csv('data2.csv')\n",
        "x = dataset.iloc[:,:-1].values\n",
        "y = dataset.iloc[:,:-1].values\n",
        "print(x)\n",
        "print(y)"
      ],
      "metadata": {
        "colab": {
          "base_uri": "https://localhost:8080/"
        },
        "id": "SOnxlbcd0ZgR",
        "outputId": "e4cd415f-0548-4f9c-8eb0-63c4494db44c"
      },
      "execution_count": null,
      "outputs": [
        {
          "output_type": "stream",
          "name": "stdout",
          "text": [
            "[['Varsha' 18.0 40000.0]\n",
            " ['sreeya' nan 45000.0]\n",
            " ['impa' 17.0 40000.0]\n",
            " ['jay' 20.0 nan]]\n",
            "[['Varsha' 18.0 40000.0]\n",
            " ['sreeya' nan 45000.0]\n",
            " ['impa' 17.0 40000.0]\n",
            " ['jay' 20.0 nan]]\n"
          ]
        }
      ]
    },
    {
      "cell_type": "code",
      "source": [
        "import numpy as np\n",
        "import matplotlib.pyplot as plt\n",
        "import pandas as pd\n",
        "dataset=pd.read_csv('data2.csv')\n",
        "x=dataset.iloc[:,:-1].values\n",
        "y=dataset.iloc[:,-1].values\n",
        "print(x)\n",
        "print(y)"
      ],
      "metadata": {
        "colab": {
          "base_uri": "https://localhost:8080/"
        },
        "id": "nFJOsk4mPY5d",
        "outputId": "f854394a-f0d0-44c7-8393-391ff593cb88"
      },
      "execution_count": null,
      "outputs": [
        {
          "output_type": "stream",
          "name": "stdout",
          "text": [
            "[['Varsha' 18.0 40000.0]\n",
            " ['sreeya' nan 45000.0]\n",
            " ['impa' 17.0 40000.0]\n",
            " ['jay' 20.0 nan]]\n",
            "['yes' 'no' 'no' 'yes']\n"
          ]
        }
      ]
    },
    {
      "cell_type": "code",
      "source": [
        "import numpy as np\n",
        "import matplotlib.pyplot as plt\n",
        "import pandas as pd\n",
        "from sklearn.impute import SimpleImputer\n",
        "imputer=SimpleImputer(missing_values=np.nan,strategy='mean')\n",
        "imputer.fit(x[:,1:3])\n",
        "x[:,1:3]=imputer.transform(x[:,1:3])\n",
        "print (x)"
      ],
      "metadata": {
        "colab": {
          "base_uri": "https://localhost:8080/"
        },
        "id": "sZLUNbyISfYP",
        "outputId": "62d9e570-2c61-41c0-f623-e0829299f26e"
      },
      "execution_count": null,
      "outputs": [
        {
          "output_type": "stream",
          "name": "stdout",
          "text": [
            "[['Varsha' 18.0 40000.0]\n",
            " ['sreeya' 18.333333333333332 45000.0]\n",
            " ['impa' 17.0 40000.0]\n",
            " ['jay' 20.0 41666.666666666664]]\n"
          ]
        }
      ]
    },
    {
      "cell_type": "code",
      "source": [],
      "metadata": {
        "id": "wdAwqeiiTTaK"
      },
      "execution_count": null,
      "outputs": []
    }
  ]
}