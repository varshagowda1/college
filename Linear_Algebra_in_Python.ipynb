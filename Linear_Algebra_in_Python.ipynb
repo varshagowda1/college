{
  "nbformat": 4,
  "nbformat_minor": 0,
  "metadata": {
    "colab": {
      "provenance": [],
      "authorship_tag": "ABX9TyP3qwZDQFSHMqDU/NKz2z9Q",
      "include_colab_link": true
    },
    "kernelspec": {
      "name": "python3",
      "display_name": "Python 3"
    },
    "language_info": {
      "name": "python"
    }
  },
  "cells": [
    {
      "cell_type": "markdown",
      "metadata": {
        "id": "view-in-github",
        "colab_type": "text"
      },
      "source": [
        "<a href=\"https://colab.research.google.com/github/varshagowda1/college/blob/main/Linear_Algebra_in_Python.ipynb\" target=\"_parent\"><img src=\"https://colab.research.google.com/assets/colab-badge.svg\" alt=\"Open In Colab\"/></a>"
      ]
    },
    {
      "cell_type": "markdown",
      "source": [
        "Creating matrix using array feature in numpy"
      ],
      "metadata": {
        "id": "ZQHMOoL6hY-P"
      }
    },
    {
      "cell_type": "code",
      "execution_count": 1,
      "metadata": {
        "colab": {
          "base_uri": "https://localhost:8080/"
        },
        "id": "j_7kf6EzhVJv",
        "outputId": "ddad2354-0803-4a4d-94da-bf99a7c9ed17"
      },
      "outputs": [
        {
          "output_type": "stream",
          "name": "stdout",
          "text": [
            "A = [[ 1  3  7  2]\n",
            " [ 5  8 -9  0]\n",
            " [ 6 -7 11 12]]\n"
          ]
        }
      ],
      "source": [
        "import numpy as np\n",
        "\n",
        "A = np.array([[1, 3, 7, 2], [5, 8, -9, 0], [6, -7, 11, 12]])\n",
        "print(\"A =\", A)"
      ]
    },
    {
      "cell_type": "markdown",
      "source": [
        "Matrix Addition and Subtraction"
      ],
      "metadata": {
        "id": "U1-MJxfhhaQR"
      }
    },
    {
      "cell_type": "code",
      "source": [
        "import numpy as np\n",
        "\n",
        "A = np.array([[0, 1],[-2, -3]])\n",
        "\n",
        "B = np.array([[1, 0],[3, -2]])\n",
        "\n",
        "C = A + B\n",
        "print(\"A+B =\", C)\n",
        "\n",
        "C = A - B\n",
        "print(\"A-B =\", C)"
      ],
      "metadata": {
        "colab": {
          "base_uri": "https://localhost:8080/"
        },
        "id": "ydHGF8YBhfXQ",
        "outputId": "600302cd-2b9a-4fc0-f533-e8b9ddf50535"
      },
      "execution_count": 2,
      "outputs": [
        {
          "output_type": "stream",
          "name": "stdout",
          "text": [
            "A+B = [[ 1  1]\n",
            " [ 1 -5]]\n",
            "A-B = [[-1  1]\n",
            " [-5 -1]]\n"
          ]
        }
      ]
    },
    {
      "cell_type": "markdown",
      "source": [
        "Matrix Multiplication Methods"
      ],
      "metadata": {
        "id": "QBNvOhT7hnep"
      }
    },
    {
      "cell_type": "code",
      "source": [
        "\n",
        "C = np.dot(A,B)\n",
        "print(\"A*B =\", C)"
      ],
      "metadata": {
        "colab": {
          "base_uri": "https://localhost:8080/"
        },
        "id": "AxQCUeqihoZt",
        "outputId": "955ca36e-a6b2-4bcb-dd0f-c63f77f85774"
      },
      "execution_count": 3,
      "outputs": [
        {
          "output_type": "stream",
          "name": "stdout",
          "text": [
            "A*B = [[  3  -2]\n",
            " [-11   6]]\n"
          ]
        }
      ]
    },
    {
      "cell_type": "code",
      "source": [
        "\n",
        "C = np.matmul(A,B)\n",
        "print(\"A*B =\", C)"
      ],
      "metadata": {
        "colab": {
          "base_uri": "https://localhost:8080/"
        },
        "id": "2z2MMmpKhsVM",
        "outputId": "d393909d-50aa-4f17-ec97-b195451fbf1a"
      },
      "execution_count": 4,
      "outputs": [
        {
          "output_type": "stream",
          "name": "stdout",
          "text": [
            "A*B = [[  3  -2]\n",
            " [-11   6]]\n"
          ]
        }
      ]
    },
    {
      "cell_type": "code",
      "source": [
        "\n",
        "C = A.dot(B)\n",
        "print(\"A*B =\", C)\n",
        "     "
      ],
      "metadata": {
        "colab": {
          "base_uri": "https://localhost:8080/"
        },
        "id": "Ph1g2hkKhwWg",
        "outputId": "f451c37c-7935-4ba9-dd38-fd82dd394d1c"
      },
      "execution_count": 5,
      "outputs": [
        {
          "output_type": "stream",
          "name": "stdout",
          "text": [
            "A*B = [[  3  -2]\n",
            " [-11   6]]\n"
          ]
        }
      ]
    },
    {
      "cell_type": "markdown",
      "source": [
        "Creating Transpose of a Matrix"
      ],
      "metadata": {
        "id": "72S8Zsyxhy3d"
      }
    },
    {
      "cell_type": "code",
      "source": [
        "\n",
        "import numpy as np\n",
        "\n",
        "A = np.array([[1, 3, 7, 2],\n",
        "[5, 8, -9, 0],\n",
        "[6, -7, 11, 12]])\n",
        "\n",
        "print(\"A=\"); print(A)\n",
        "\n",
        "Atr = np.transpose(A)\n",
        "print(\"Transpose of A=\"); print(Atr)\n",
        "     "
      ],
      "metadata": {
        "colab": {
          "base_uri": "https://localhost:8080/"
        },
        "id": "X84FdEJxh2LP",
        "outputId": "3407a2f2-88e0-4207-aa84-1fcc3b68daa0"
      },
      "execution_count": 6,
      "outputs": [
        {
          "output_type": "stream",
          "name": "stdout",
          "text": [
            "A=\n",
            "[[ 1  3  7  2]\n",
            " [ 5  8 -9  0]\n",
            " [ 6 -7 11 12]]\n",
            "Transpose of A=\n",
            "[[ 1  5  6]\n",
            " [ 3  8 -7]\n",
            " [ 7 -9 11]\n",
            " [ 2  0 12]]\n"
          ]
        }
      ]
    },
    {
      "cell_type": "markdown",
      "source": [
        "Creating Determinant of a Matrix"
      ],
      "metadata": {
        "id": "jgpEVUMHh4rF"
      }
    },
    {
      "cell_type": "code",
      "source": [
        "import numpy as np\n",
        "import numpy.linalg as la\n",
        "\n",
        "A = np.array([[1, 2],\n",
        "[3, 4]])\n",
        "\n",
        "Adet = la.det(A)\n",
        "print(Adet)\n",
        "\n",
        "B = np.array([[-1, 3, 0],\n",
        "[2, 1, -5],\n",
        "[1, 4, -2]])\n",
        "\n",
        "Bdet = la.det(B)\n",
        "print(Bdet)"
      ],
      "metadata": {
        "colab": {
          "base_uri": "https://localhost:8080/"
        },
        "id": "vWjVKZdZh5j4",
        "outputId": "4ccba1f7-68ff-4897-bbbf-4503e45842b5"
      },
      "execution_count": 7,
      "outputs": [
        {
          "output_type": "stream",
          "name": "stdout",
          "text": [
            "-2.0000000000000004\n",
            "-21.00000000000001\n"
          ]
        }
      ]
    },
    {
      "cell_type": "markdown",
      "source": [
        "Inverse of a Matrix"
      ],
      "metadata": {
        "id": "bhqbyV2NiAgm"
      }
    },
    {
      "cell_type": "code",
      "source": [
        "\n",
        "import numpy as np\n",
        "import numpy.linalg as la\n",
        "\n",
        "A = np.array([[1, 2],\n",
        "[3, 4]])\n",
        "\n",
        "Ainv = la.inv(A)\n",
        "print(Ainv)\n",
        "\n",
        "B = np.array([[-1, 3, 0],\n",
        "[2, 1, -5],\n",
        "[1, 4, -2]])\n",
        "\n",
        "Binv = la.inv(B)\n",
        "print(Binv)"
      ],
      "metadata": {
        "colab": {
          "base_uri": "https://localhost:8080/"
        },
        "id": "HI1NY-kbiDDX",
        "outputId": "96296981-7f94-4ff1-d661-d8b9ccf24045"
      },
      "execution_count": 8,
      "outputs": [
        {
          "output_type": "stream",
          "name": "stdout",
          "text": [
            "[[-2.   1. ]\n",
            " [ 1.5 -0.5]]\n",
            "[[-0.85714286 -0.28571429  0.71428571]\n",
            " [ 0.04761905 -0.0952381   0.23809524]\n",
            " [-0.33333333 -0.33333333  0.33333333]]\n"
          ]
        }
      ]
    },
    {
      "cell_type": "markdown",
      "source": [
        "\n",
        "Eigen Values"
      ],
      "metadata": {
        "id": "iyHq0S5_iF07"
      }
    },
    {
      "cell_type": "code",
      "source": [
        "\n",
        "import numpy as np\n",
        "import numpy.linalg as la\n",
        "\n",
        "A = np.array([[0, 1],\n",
        "[-2, -3]])\n",
        "\n",
        "Aeig, v = la.eig(A)\n",
        "print(Aeig)"
      ],
      "metadata": {
        "colab": {
          "base_uri": "https://localhost:8080/"
        },
        "id": "6bvSZp7piJMh",
        "outputId": "c676bfc4-7b32-4109-977e-50f646bd736d"
      },
      "execution_count": 9,
      "outputs": [
        {
          "output_type": "stream",
          "name": "stdout",
          "text": [
            "[-1. -2.]\n"
          ]
        }
      ]
    },
    {
      "cell_type": "markdown",
      "source": [
        "Solving linear equations"
      ],
      "metadata": {
        "id": "qUtfLohDiN-I"
      }
    },
    {
      "cell_type": "code",
      "source": [
        "import numpy as np\n",
        "import numpy.linalg as la\n",
        "\n",
        "A = np.array([[1, 2],\n",
        "[3, 4]])\n",
        "b = np.array([[5],\n",
        "[6]])\n",
        "\n",
        "Ainv = la.inv(A)\n",
        "\n",
        "x = Ainv.dot(b)\n",
        "\n",
        "print(x)"
      ],
      "metadata": {
        "colab": {
          "base_uri": "https://localhost:8080/"
        },
        "id": "MvtubzLFiOoy",
        "outputId": "ad51dfeb-c88c-4b66-b6c9-7bc4790c7c42"
      },
      "execution_count": 10,
      "outputs": [
        {
          "output_type": "stream",
          "name": "stdout",
          "text": [
            "[[-4. ]\n",
            " [ 4.5]]\n"
          ]
        }
      ]
    },
    {
      "cell_type": "markdown",
      "source": [
        "Alternate Method"
      ],
      "metadata": {
        "id": "9pZYC8HeiT0-"
      }
    },
    {
      "cell_type": "code",
      "source": [
        "\n",
        "x = np.linalg.solve(A, b)\n",
        "print(x)\n",
        "     "
      ],
      "metadata": {
        "colab": {
          "base_uri": "https://localhost:8080/"
        },
        "id": "1kMvZ_0xiXNu",
        "outputId": "849cf23a-76da-4e66-c21a-48802a37a839"
      },
      "execution_count": 11,
      "outputs": [
        {
          "output_type": "stream",
          "name": "stdout",
          "text": [
            "[[-4. ]\n",
            " [ 4.5]]\n"
          ]
        }
      ]
    }
  ]
}